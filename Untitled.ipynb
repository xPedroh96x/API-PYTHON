{
 "cells": [
  {
   "cell_type": "markdown",
   "id": "768fe9be",
   "metadata": {},
   "source": [
    "### 1 - Importando as Bibliotecas"
   ]
  },
  {
   "cell_type": "code",
   "execution_count": 3,
   "id": "e6343090",
   "metadata": {},
   "outputs": [],
   "source": [
    "import pandas as pd\n",
    "import basedosdados as bd"
   ]
  },
  {
   "cell_type": "markdown",
   "id": "8dec7951",
   "metadata": {},
   "source": [
    "### 2 - Carregando o arquivo"
   ]
  },
  {
   "attachments": {},
   "cell_type": "markdown",
   "id": "7989207f",
   "metadata": {},
   "source": [
    "| **Nome**      | **Tipo de Dado** | **Descrição**                 | **Cobertura Temporal** | **Coberta Por Um Dicionário** | **Coluna Correspondente Nos Diretórios** | **Unidade De Medida** | **Contém Dados Sensíveis (LGPD) ** |\n",
    "|:-------------:|:----------------:|:-----------------------------:|:----------------------:|:-----------------------------:|:----------------------------------------:|:---------------------:|:----------------------------------:|\n",
    "| ano           | INT64            | Ano                           | 1996                   | Não                           | Não listado                              | Não listado           | Não listado                        |\n",
    "| causa_basica  | STRING           | Causa Básica (CID-10)         | 1996                   | Não                           | Não listado                              | Não listado           | Não listado                        |\n",
    "| idade         | INT64            | Idade                         | 1996                   | Não                           | Não listado                              | Não listado           | Não listado                        |\n",
    "| numero_obitos | INT64            | Número de Óbitos              | 1996                   | Não                           | Não listado                              | Não listado           | Não listado                        |\n",
    "| raca_cor      | STRING           | Raça ou Cor                   | 1996                   | Não                           | Não listado                              | Não listado           | Não listado                        |\n",
    "| sexo          | STRING           | Sexo                          | 1996                   | Não                           | Não listado                              | Não listado           | Não listado                        |\n",
    "| sigla_uf      | STRING           | Sigla da Unidade da Federação | 1996                   | Não                           | Não listado                              | Não listado           | Não listado                        |"
   ]
  },
  {
   "cell_type": "code",
   "execution_count": 5,
   "id": "7c47dbf7",
   "metadata": {},
   "outputs": [
    {
     "name": "stderr",
     "output_type": "stream",
     "text": [
      "Downloading: 100%|█████████████████████████████████████████████████████| 100000/100000 [00:06<00:00, 14286.52rows/s]\n"
     ]
    }
   ],
   "source": [
    "df = bd.read_table(dataset_id='br_ms_sim',\n",
    "table_id='municipio_causa_idade_sexo_raca',\n",
    "billing_project_id=\"api-386616\",\n",
    "limit=100000)"
   ]
  },
  {
   "cell_type": "markdown",
   "id": "51dbdb57",
   "metadata": {},
   "source": [
    "### 3 - Tratando os dados"
   ]
  },
  {
   "cell_type": "code",
   "execution_count": 38,
   "id": "ec49aa69",
   "metadata": {},
   "outputs": [],
   "source": [
    "# Deletando coluna de código numérido do UF\n",
    "df.drop('id_municipio', axis =1, inplace = True)"
   ]
  },
  {
   "cell_type": "code",
   "execution_count": null,
   "id": "da6930a0",
   "metadata": {},
   "outputs": [],
   "source": [
    "df.head()"
   ]
  },
  {
   "cell_type": "code",
   "execution_count": 53,
   "id": "37476210",
   "metadata": {},
   "outputs": [],
   "source": [
    "# Verificanodo os valores ausentes na tabela\n",
    "df.isnull().sum()"
   ]
  },
  {
   "cell_type": "code",
   "execution_count": null,
   "id": "37ce6471",
   "metadata": {},
   "outputs": [],
   "source": [
    "df[df.isna().sum()"
   ]
  },
  {
   "cell_type": "code",
   "execution_count": null,
   "id": "0d1e5dc5",
   "metadata": {
    "scrolled": true
   },
   "outputs": [],
   "source": [
    "# Deletando colunas com dados ausentes ou invalidos\n",
    "df.drop(['id_municipio', 'raca_cor'], axis =1, inplace = True)"
   ]
  },
  {
   "cell_type": "code",
   "execution_count": null,
   "id": "22bea2b3",
   "metadata": {},
   "outputs": [],
   "source": [
    "# Deletando linhas sem valores ou valores invalidos da coluna idade\n",
    "df = df[df['idade'].notnull()]"
   ]
  },
  {
   "cell_type": "code",
   "execution_count": null,
   "id": "97e7ace4",
   "metadata": {},
   "outputs": [],
   "source": [
    "df"
   ]
  },
  {
   "attachments": {},
   "cell_type": "markdown",
   "id": "47a6d820",
   "metadata": {},
   "source": [
    "# Criando Busca na Tabela"
   ]
  },
  {
   "cell_type": "code",
   "execution_count": null,
   "id": "f5aa5455",
   "metadata": {},
   "outputs": [],
   "source": [
    "def busca(uf, sexo, baixar=2, nome=''):\n",
    "    \n",
    "    # Verificando se a tabela possui o UF informado\n",
    "    df_busca = df[df['sigla_uf'].str.contains(uf)]\n",
    "    \n",
    "    # Retornando apenas o sexo desejado que possui aquele UF\n",
    "    df_busca = df_busca[df_busca['sexo'].str.contains(sexo)]\n",
    "    \n",
    "    \n",
    "    if len(df_busca) <=0:\n",
    "        print(\"Nome não encontrado\")\n",
    "        \n",
    "    \n",
    "    else:\n",
    "        if baixar == '1' or baixar  == 1:\n",
    "            df_busca.to_excel(f'pesquisas/pesquisa_{nome}.xlsx')\n",
    "            print(\"Pesquisa salva em: 'pesquisas'\")\n",
    "        \n",
    "        # Por padrão a busca apenas retorna a tabela para o usúario\n",
    "        elif baixar == '2' or baixar == 2:\n",
    "            return df_busca\n",
    "        else:\n",
    "            print(\"Informe apenas um número que seja 1 ou 2\") "
   ]
  },
  {
   "attachments": {},
   "cell_type": "markdown",
   "id": "fcc1c067",
   "metadata": {},
   "source": [
    "# Solicitando Dados"
   ]
  },
  {
   "cell_type": "code",
   "execution_count": null,
   "id": "1aecc7a9",
   "metadata": {},
   "outputs": [],
   "source": [
    "# citando os dados da busca para o usuario\n",
    "try:\n",
    "    uf = input(\"Qual o Estado (AP, AC, DF, AM, CE, AL, BA, MT, ES): \\n\")\n",
    "    sexo = input(\"Qual o sexo (0, 1, 2): \\n\")\n",
    "    baixar = input(\"Deseja baixar a busca (1 para baixar, 2 para não baixar):\\n \")\n",
    "    nome = input(\"Qual o nome dar para a busaca: \\n\")\n",
    "except(ValueError, TypeError) as error:\n",
    "    print(f\"Houve um erro com as informações passadas: {error}\")\n",
    "  \n",
    "\n",
    "# Passando os valores informados para a função \n",
    "busca(uf=uf, sexo=sexo, baixar=baixar, nome=nome)"
   ]
  }
 ],
 "metadata": {
  "kernelspec": {
   "display_name": "Python 3 (ipykernel)",
   "language": "python",
   "name": "python3"
  },
  "language_info": {
   "codemirror_mode": {
    "name": "ipython",
    "version": 3
   },
   "file_extension": ".py",
   "mimetype": "text/x-python",
   "name": "python",
   "nbconvert_exporter": "python",
   "pygments_lexer": "ipython3",
   "version": "3.10.11"
  }
 },
 "nbformat": 4,
 "nbformat_minor": 5
}
