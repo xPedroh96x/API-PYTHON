{
 "cells": [
  {
   "cell_type": "markdown",
   "id": "768fe9be",
   "metadata": {},
   "source": [
    "### 1 - Importando as Bibliotecas"
   ]
  },
  {
   "cell_type": "code",
   "execution_count": 3,
   "id": "e6343090",
   "metadata": {},
   "outputs": [],
   "source": [
    "import pandas as pd\n",
    "import basedosdados as bd"
   ]
  },
  {
   "cell_type": "markdown",
   "id": "8dec7951",
   "metadata": {},
   "source": [
    "### 2 - Carregando o arquivo"
   ]
  },
  {
   "cell_type": "code",
   "execution_count": 5,
   "id": "7c47dbf7",
   "metadata": {},
   "outputs": [
    {
     "name": "stderr",
     "output_type": "stream",
     "text": [
      "Downloading: 100%|█████████████████████████████████████████████████████| 100000/100000 [00:06<00:00, 14286.52rows/s]\n"
     ]
    }
   ],
   "source": [
    "df = bd.read_table(dataset_id='br_ms_sim',\n",
    "table_id='municipio_causa_idade_sexo_raca',\n",
    "billing_project_id=\"api-386616\",\n",
    "limit=100000)"
   ]
  },
  {
   "cell_type": "markdown",
   "id": "51dbdb57",
   "metadata": {},
   "source": [
    "### 3 - Tratando os dados"
   ]
  },
  {
   "cell_type": "code",
   "execution_count": 38,
   "id": "ec49aa69",
   "metadata": {},
   "outputs": [],
   "source": [
    "# Deletando coluna de código numérido do UF\n",
    "df.drop('id_municipio', axis =1, inplace = True)"
   ]
  },
  {
   "cell_type": "code",
   "execution_count": 44,
   "id": "da6930a0",
   "metadata": {},
   "outputs": [],
   "source": [
    "# Deletando linhas com idades invalidades (valores nullos)\n",
    "df = df[df['idade'].notnull()]"
   ]
  },
  {
   "cell_type": "code",
   "execution_count": 53,
   "id": "37476210",
   "metadata": {},
   "outputs": [],
   "source": [
    "df['raca_cor'].isnull().sum()\n",
    "\n",
    "# Deletando a coluna de raca e cor por falta de informações\n",
    "df.drop('raca_cor', axis =1, inplace = True)"
   ]
  },
  {
   "cell_type": "code",
   "execution_count": 58,
   "id": "37ce6471",
   "metadata": {},
   "outputs": [
    {
     "data": {
      "text/plain": [
       "0"
      ]
     },
     "execution_count": 58,
     "metadata": {},
     "output_type": "execute_result"
    }
   ],
   "source": [
    "df['ano'].isnull().sum()"
   ]
  },
  {
   "cell_type": "code",
   "execution_count": 54,
   "id": "0d1e5dc5",
   "metadata": {
    "scrolled": true
   },
   "outputs": [
    {
     "data": {
      "text/html": [
       "<div>\n",
       "<style scoped>\n",
       "    .dataframe tbody tr th:only-of-type {\n",
       "        vertical-align: middle;\n",
       "    }\n",
       "\n",
       "    .dataframe tbody tr th {\n",
       "        vertical-align: top;\n",
       "    }\n",
       "\n",
       "    .dataframe thead th {\n",
       "        text-align: right;\n",
       "    }\n",
       "</style>\n",
       "<table border=\"1\" class=\"dataframe\">\n",
       "  <thead>\n",
       "    <tr style=\"text-align: right;\">\n",
       "      <th></th>\n",
       "      <th>ano</th>\n",
       "      <th>sigla_uf</th>\n",
       "      <th>causa_basica</th>\n",
       "      <th>idade</th>\n",
       "      <th>sexo</th>\n",
       "      <th>numero_obitos</th>\n",
       "    </tr>\n",
       "  </thead>\n",
       "  <tbody>\n",
       "    <tr>\n",
       "      <th>1</th>\n",
       "      <td>1996</td>\n",
       "      <td>AC</td>\n",
       "      <td>V892</td>\n",
       "      <td>25</td>\n",
       "      <td>1</td>\n",
       "      <td>1</td>\n",
       "    </tr>\n",
       "    <tr>\n",
       "      <th>4</th>\n",
       "      <td>1996</td>\n",
       "      <td>AC</td>\n",
       "      <td>A419</td>\n",
       "      <td>71</td>\n",
       "      <td>2</td>\n",
       "      <td>1</td>\n",
       "    </tr>\n",
       "    <tr>\n",
       "      <th>5</th>\n",
       "      <td>1996</td>\n",
       "      <td>AC</td>\n",
       "      <td>D649</td>\n",
       "      <td>0</td>\n",
       "      <td>2</td>\n",
       "      <td>1</td>\n",
       "    </tr>\n",
       "    <tr>\n",
       "      <th>6</th>\n",
       "      <td>1996</td>\n",
       "      <td>AC</td>\n",
       "      <td>P369</td>\n",
       "      <td>0</td>\n",
       "      <td>2</td>\n",
       "      <td>2</td>\n",
       "    </tr>\n",
       "    <tr>\n",
       "      <th>7</th>\n",
       "      <td>1996</td>\n",
       "      <td>AC</td>\n",
       "      <td>R98</td>\n",
       "      <td>0</td>\n",
       "      <td>2</td>\n",
       "      <td>1</td>\n",
       "    </tr>\n",
       "    <tr>\n",
       "      <th>...</th>\n",
       "      <td>...</td>\n",
       "      <td>...</td>\n",
       "      <td>...</td>\n",
       "      <td>...</td>\n",
       "      <td>...</td>\n",
       "      <td>...</td>\n",
       "    </tr>\n",
       "    <tr>\n",
       "      <th>99995</th>\n",
       "      <td>1996</td>\n",
       "      <td>BA</td>\n",
       "      <td>X599</td>\n",
       "      <td>25</td>\n",
       "      <td>1</td>\n",
       "      <td>1</td>\n",
       "    </tr>\n",
       "    <tr>\n",
       "      <th>99996</th>\n",
       "      <td>1996</td>\n",
       "      <td>BA</td>\n",
       "      <td>X599</td>\n",
       "      <td>41</td>\n",
       "      <td>1</td>\n",
       "      <td>1</td>\n",
       "    </tr>\n",
       "    <tr>\n",
       "      <th>99997</th>\n",
       "      <td>1996</td>\n",
       "      <td>BA</td>\n",
       "      <td>X599</td>\n",
       "      <td>53</td>\n",
       "      <td>2</td>\n",
       "      <td>1</td>\n",
       "    </tr>\n",
       "    <tr>\n",
       "      <th>99998</th>\n",
       "      <td>1996</td>\n",
       "      <td>BA</td>\n",
       "      <td>X599</td>\n",
       "      <td>90</td>\n",
       "      <td>2</td>\n",
       "      <td>1</td>\n",
       "    </tr>\n",
       "    <tr>\n",
       "      <th>99999</th>\n",
       "      <td>1996</td>\n",
       "      <td>BA</td>\n",
       "      <td>X709</td>\n",
       "      <td>27</td>\n",
       "      <td>2</td>\n",
       "      <td>1</td>\n",
       "    </tr>\n",
       "  </tbody>\n",
       "</table>\n",
       "<p>98670 rows × 6 columns</p>\n",
       "</div>"
      ],
      "text/plain": [
       "        ano sigla_uf causa_basica  idade sexo  numero_obitos\n",
       "1      1996       AC         V892     25    1              1\n",
       "4      1996       AC         A419     71    2              1\n",
       "5      1996       AC         D649      0    2              1\n",
       "6      1996       AC         P369      0    2              2\n",
       "7      1996       AC          R98      0    2              1\n",
       "...     ...      ...          ...    ...  ...            ...\n",
       "99995  1996       BA         X599     25    1              1\n",
       "99996  1996       BA         X599     41    1              1\n",
       "99997  1996       BA         X599     53    2              1\n",
       "99998  1996       BA         X599     90    2              1\n",
       "99999  1996       BA         X709     27    2              1\n",
       "\n",
       "[98670 rows x 6 columns]"
      ]
     },
     "execution_count": 54,
     "metadata": {},
     "output_type": "execute_result"
    }
   ],
   "source": [
    "df"
   ]
  },
  {
   "cell_type": "code",
   "execution_count": null,
   "id": "987d82b7",
   "metadata": {},
   "outputs": [],
   "source": [
    "def busca(uf, )"
   ]
  }
 ],
 "metadata": {
  "kernelspec": {
   "display_name": "Python 3 (ipykernel)",
   "language": "python",
   "name": "python3"
  },
  "language_info": {
   "codemirror_mode": {
    "name": "ipython",
    "version": 3
   },
   "file_extension": ".py",
   "mimetype": "text/x-python",
   "name": "python",
   "nbconvert_exporter": "python",
   "pygments_lexer": "ipython3",
   "version": "3.10.11"
  }
 },
 "nbformat": 4,
 "nbformat_minor": 5
}
